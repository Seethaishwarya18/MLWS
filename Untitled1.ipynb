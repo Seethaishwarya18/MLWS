{
  "nbformat": 4,
  "nbformat_minor": 0,
  "metadata": {
    "colab": {
      "provenance": [],
      "authorship_tag": "ABX9TyMe4IB8LoMxtf6H6EfkAMns",
      "include_colab_link": true
    },
    "kernelspec": {
      "name": "python3",
      "display_name": "Python 3"
    },
    "language_info": {
      "name": "python"
    }
  },
  "cells": [
    {
      "cell_type": "markdown",
      "metadata": {
        "id": "view-in-github",
        "colab_type": "text"
      },
      "source": [
        "<a href=\"https://colab.research.google.com/github/Seethaishwarya18/MLWS/blob/main/Untitled1.ipynb\" target=\"_parent\"><img src=\"https://colab.research.google.com/assets/colab-badge.svg\" alt=\"Open In Colab\"/></a>"
      ]
    },
    {
      "cell_type": "code",
      "execution_count": 1,
      "metadata": {
        "colab": {
          "base_uri": "https://localhost:8080/"
        },
        "id": "dKsrPTlz2YPw",
        "outputId": "a96baaa1-0e1f-4875-94e5-1d322223cbaa"
      },
      "outputs": [
        {
          "output_type": "stream",
          "name": "stdout",
          "text": [
            "[1 5 9 6]\n",
            "[2 7 8 4]\n",
            "[ 3 12 17 10]\n",
            "[-1 -2  1  2]\n",
            "[ 2 35 72 24]\n",
            "[0.5        0.71428571 1.125      1.5       ]\n",
            "[1 5 1 2]\n",
            "[    1  3125 59049  7776]\n"
          ]
        }
      ],
      "source": [
        "#1 Arithmetic operations\n",
        "import numpy as np\n",
        "a1=np.array([1,5,9,6])\n",
        "a2=np.array([2,7,8,4])\n",
        "print(a1)\n",
        "print(a2)\n",
        "add_array =np.add(a1,a2)\n",
        "sub_array=np.subtract(a1,a2)\n",
        "mul_array=np.multiply(a1,a2)\n",
        "div_array=np.divide(a1,a2)\n",
        "rem_array=np.mod(a1,a2)\n",
        "pow_array=np.power(a1,5)\n",
        "print(add_array)\n",
        "print(sub_array)\n",
        "print(mul_array)\n",
        "print(div_array)\n",
        "print(rem_array)\n",
        "print(pow_array)\n"
      ]
    },
    {
      "cell_type": "code",
      "source": [
        "#2 compute mean and std devn\n",
        "marks = np.array([11,14,15,13,16])\n",
        "mean=np.mean(marks)\n",
        "std=np.std(marks)\n",
        "print(mean)\n",
        "print(std)"
      ],
      "metadata": {
        "colab": {
          "base_uri": "https://localhost:8080/"
        },
        "id": "s2EsorkA6WAX",
        "outputId": "fcd788b9-b299-4d9e-adc8-3452487267ef"
      },
      "execution_count": null,
      "outputs": [
        {
          "output_type": "stream",
          "name": "stdout",
          "text": [
            "13.8\n",
            "1.7204650534085253\n"
          ]
        }
      ]
    },
    {
      "cell_type": "code",
      "source": [
        "#3 array of integers from 10 to 50 with a step count of 5\n",
        "Array = np.arange(10,51,5)\n",
        "print(Array)"
      ],
      "metadata": {
        "colab": {
          "base_uri": "https://localhost:8080/"
        },
        "id": "yZFfw-vGGZJb",
        "outputId": "db5d8a86-6362-4f19-f470-0eceda0001ba"
      },
      "execution_count": null,
      "outputs": [
        {
          "output_type": "stream",
          "name": "stdout",
          "text": [
            "[10 15 20 25 30 35 40 45 50]\n"
          ]
        }
      ]
    },
    {
      "cell_type": "code",
      "source": [
        "#4 reshape the array into 2*4 matrix\n",
        "Array=Array[:8]\n",
        "Reshaped_array=Array.reshape(2,4)\n",
        "print(Reshaped_array)"
      ],
      "metadata": {
        "colab": {
          "base_uri": "https://localhost:8080/"
        },
        "id": "AAyYbiNIHeg-",
        "outputId": "6427d6de-8401-42ac-dd13-12bb5682f165"
      },
      "execution_count": null,
      "outputs": [
        {
          "output_type": "stream",
          "name": "stdout",
          "text": [
            "[[10 15 20 25]\n",
            " [30 35 40 45]]\n"
          ]
        }
      ]
    },
    {
      "cell_type": "code",
      "source": [
        "#5 array=np.array([[1,2,3],[4,5,6],[7,8,9]])\n",
        "# 1)extract submatrix having last two rows and first two columns\n",
        "#2)replace all elements greater than 4 with 0\n",
        "\n",
        "arr=np.array([[1,2,3],[4,5,6],[7,8,9]])\n",
        "sub =arr[1:,:2]\n",
        "print(sub)\n",
        "for i in range(3):\n",
        "  for j in range(3):\n",
        "    if(arr[i,j]>4):\n",
        "      arr[i,j]=0\n",
        "print(arr)\n"
      ],
      "metadata": {
        "colab": {
          "base_uri": "https://localhost:8080/"
        },
        "id": "c3guTYXnIRan",
        "outputId": "a96185b6-b7b1-44eb-ffff-45329e3013f9"
      },
      "execution_count": null,
      "outputs": [
        {
          "output_type": "stream",
          "name": "stdout",
          "text": [
            "[[4 5]\n",
            " [7 8]]\n",
            "[[1 2 3]\n",
            " [4 0 0]\n",
            " [0 0 0]]\n"
          ]
        }
      ]
    },
    {
      "cell_type": "code",
      "source": [
        "#6. create two 1d arrays\n",
        "# 1)a=np.array([1,2,3])\n",
        "#2)b=np.array([4,5,6])\n",
        "# perform element wise addition,multiplicaton and division\n",
        "a = np.array([1,2,3])\n",
        "b = np.array([4,5,6])\n",
        "print(np.add(a,b))\n",
        "print(np.multiply(a,b))\n",
        "print(np.divide(a,b))\n",
        "\n"
      ],
      "metadata": {
        "colab": {
          "base_uri": "https://localhost:8080/"
        },
        "id": "rhwJJiCWKlUr",
        "outputId": "7c1db58d-b024-4315-dc05-f9ff3fe522e5"
      },
      "execution_count": null,
      "outputs": [
        {
          "output_type": "stream",
          "name": "stdout",
          "text": [
            "[5 7 9]\n",
            "[ 4 10 18]\n",
            "[0.25 0.4  0.5 ]\n"
          ]
        }
      ]
    },
    {
      "cell_type": "code",
      "source": [
        "#7. create random array of size (4,4)\n",
        "# compute mean of each column,max value of entire array,sum of all elements\n",
        "Random=np.random.rand(4,4)\n",
        "print(Random)\n",
        "print(np.max(Random))\n",
        "print(np.sum(Random))\n",
        "print(np.mean(Random,axis=0))"
      ],
      "metadata": {
        "colab": {
          "base_uri": "https://localhost:8080/"
        },
        "id": "UEtlPizsM6yo",
        "outputId": "d2f14621-0381-41ff-85ec-d02fa02179ce"
      },
      "execution_count": null,
      "outputs": [
        {
          "output_type": "stream",
          "name": "stdout",
          "text": [
            "[[0.14796198 0.18777581 0.42564949 0.42376135]\n",
            " [0.63765044 0.01732334 0.26598439 0.821879  ]\n",
            " [0.90235607 0.46505183 0.65075894 0.22427584]\n",
            " [0.08074085 0.88290126 0.70779505 0.62344631]]\n",
            "0.9023560676528397\n",
            "7.4653119627875775\n",
            "[0.44217733 0.38826306 0.51254697 0.52334063]\n"
          ]
        }
      ]
    },
    {
      "cell_type": "markdown",
      "source": [],
      "metadata": {
        "id": "zvwTtB8C-LnG"
      }
    },
    {
      "cell_type": "code",
      "source": [
        "#8.given array=np.array([1,2,3,4]) add 10 to each element and then multiply the result by 2\n",
        "arr=np.array([1,2,3,4])\n",
        "Array=(arr+10)*2\n",
        "print(Array)"
      ],
      "metadata": {
        "colab": {
          "base_uri": "https://localhost:8080/"
        },
        "id": "WJsotilqP_5n",
        "outputId": "efe106c1-c0c2-4c2f-d2d3-eef79a9a92cb"
      },
      "execution_count": 15,
      "outputs": [
        {
          "output_type": "stream",
          "name": "stdout",
          "text": [
            "[22 24 26 28]\n"
          ]
        }
      ]
    },
    {
      "cell_type": "code",
      "source": [
        "#9.perform advanced slicing and indexing on a 3d array\n",
        "#Create a 3D NumPy array arr of shape (3, 4, 5) with random integers ranging from\n",
        "#1 to 100. Perform the following:\n",
        "#• Extract the second \"layer\" (i.e., the second 2D array) in the first dimension.\n",
        "#• Extract the first two rows and the last three columns from each \"layer.\"\n",
        "#• Replace all elements divisible by 3 with -1.\n",
        "\n",
        "random=np.random.randint(1,101,(3,4,5))\n",
        "print(random)\n",
        "print(random[: ,1:2,])\n",
        "print(random[:,0:2,-3:])\n",
        "random[random%3==0]=-1\n",
        "print(random)"
      ],
      "metadata": {
        "colab": {
          "base_uri": "https://localhost:8080/"
        },
        "id": "HXioOe_fQciB",
        "outputId": "14946893-8190-4ced-b844-bb3e7ef8aa53"
      },
      "execution_count": 2,
      "outputs": [
        {
          "output_type": "stream",
          "name": "stdout",
          "text": [
            "[[[ 29  93  34  75  34]\n",
            "  [ 40  80  22  30  10]\n",
            "  [ 43  16  62  68  72]\n",
            "  [ 42  94  25  29  91]]\n",
            "\n",
            " [[ 86  66  50  69  20]\n",
            "  [ 62  31  54  95   9]\n",
            "  [ 77 100  25  43  51]\n",
            "  [ 95  68  51  75  22]]\n",
            "\n",
            " [[ 47  76  21   5  84]\n",
            "  [ 36  79  61  26  98]\n",
            "  [ 63  50  66  66  71]\n",
            "  [ 93  47  82  88  57]]]\n",
            "[[[40 80 22 30 10]]\n",
            "\n",
            " [[62 31 54 95  9]]\n",
            "\n",
            " [[36 79 61 26 98]]]\n",
            "[[[34 75 34]\n",
            "  [22 30 10]]\n",
            "\n",
            " [[50 69 20]\n",
            "  [54 95  9]]\n",
            "\n",
            " [[21  5 84]\n",
            "  [61 26 98]]]\n",
            "[[[ 29  -1  34  -1  34]\n",
            "  [ 40  80  22  -1  10]\n",
            "  [ 43  16  62  68  -1]\n",
            "  [ -1  94  25  29  91]]\n",
            "\n",
            " [[ 86  -1  50  -1  20]\n",
            "  [ 62  31  -1  95  -1]\n",
            "  [ 77 100  25  43  -1]\n",
            "  [ 95  68  -1  -1  22]]\n",
            "\n",
            " [[ 47  76  -1   5  -1]\n",
            "  [ -1  79  61  26  98]\n",
            "  [ -1  50  -1  -1  71]\n",
            "  [ -1  47  82  88  -1]]]\n"
          ]
        }
      ]
    },
    {
      "cell_type": "code",
      "source": [
        "#10. Work with broadcasting and advanced operations in NumPy.\n",
        " #Create a NumPy array arr of shape (3, 3) with random integers between\n",
        "# 1 and 20. Perform the following:\n",
        "#• Subtract the mean of each row from its respective elements (row-wise normalization)\n",
        "#Create a new array by squaring all the elements in arr.\n",
        "#• Find the indices of the top 3 maximum values in the entire array\n",
        "arr1=np.random.randint(1,21,(3,3))\n",
        "mean=np.mean(arr1,axis=1)\n",
        "norm_arr=arr1-mean\n",
        "print(arr1)\n",
        "print(mean)\n",
        "print(norm_arr)\n",
        "sqr_arr=arr1**2\n",
        "print(sqr_arr)\n",
        "indices=np.argsort(arr1.ravel())[-3:]\n",
        "indicess=[np.unravel_index(idx,arr1.shape)for idx in indices]\n",
        "print(indicess)"
      ],
      "metadata": {
        "colab": {
          "base_uri": "https://localhost:8080/"
        },
        "id": "q_9ByJ86tNeP",
        "outputId": "8f4d6262-c190-426f-c172-fbf6108435d5"
      },
      "execution_count": 14,
      "outputs": [
        {
          "output_type": "stream",
          "name": "stdout",
          "text": [
            "[[ 3 13  9]\n",
            " [11 20 10]\n",
            " [11  8  2]]\n",
            "[ 8.33333333 13.66666667  7.        ]\n",
            "[[-5.33333333 -0.66666667  2.        ]\n",
            " [ 2.66666667  6.33333333  3.        ]\n",
            " [ 2.66666667 -5.66666667 -5.        ]]\n",
            "[[  9 169  81]\n",
            " [121 400 100]\n",
            " [121  64   4]]\n",
            "[(2, 0), (0, 1), (1, 1)]\n"
          ]
        }
      ]
    },
    {
      "cell_type": "code",
      "source": [],
      "metadata": {
        "id": "KTMZnJUYvjEA"
      },
      "execution_count": null,
      "outputs": []
    }
  ]
}